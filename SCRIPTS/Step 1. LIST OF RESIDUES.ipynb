{
 "cells": [
  {
   "cell_type": "code",
   "execution_count": 1,
   "id": "53e96906",
   "metadata": {},
   "outputs": [],
   "source": [
    "import argparse\n",
    "import sys\n",
    "import os\n",
    "import math\n",
    "\n",
    "from Bio.PDB.PDBParser import PDBParser\n",
    "from Bio.PDB.NACCESS import NACCESS_atomic\n",
    "from Bio.PDB.NeighborSearch import NeighborSearch\n",
    "from Bio.PDB.PDBIO import PDBIO, Select\n",
    "import biobb_structure_checking\n",
    "import biobb_structure_checking.constants as cts\n",
    "from biobb_structure_checking.structure_checking import StructureChecking\n",
    "base_dir_path=biobb_structure_checking.__path__[0]\n",
    "args = cts.set_defaults(base_dir_path,{'notebook':True})"
   ]
  },
  {
   "cell_type": "code",
   "execution_count": 2,
   "id": "bea26227",
   "metadata": {},
   "outputs": [],
   "source": [
    "from Bio import PDB\n",
    "from Bio.PDB import NeighborSearch\n",
    "\n",
    "def get_interface_residues(structure, chain1_id, chain2_id, distance_cutoff):\n",
    "    model = structure[0]\n",
    "\n",
    "    # Extract atoms from the two specified chains\n",
    "    chain1_atoms = [atom for atom in model[chain1_id].get_atoms()]\n",
    "    chain2_atoms = [atom for atom in model[chain2_id].get_atoms()]\n",
    "\n",
    "    # Create NeighborSearch objects for each chain\n",
    "    ns_chain1 = NeighborSearch(chain1_atoms)\n",
    "    ns_chain2 = NeighborSearch(chain2_atoms)\n",
    "\n",
    "    # Identify interface residues by searching for neighbors in the opposite chain\n",
    "    int_res_chain1 = set()\n",
    "    for atom in chain1_atoms:\n",
    "        neighbors_chain2 = ns_chain2.search(atom.coord, distance_cutoff)\n",
    "        if neighbors_chain2:\n",
    "            int_res_chain1.add(atom.get_full_id()[3][1])\n",
    "\n",
    "    int_res_chain2 = set()\n",
    "    for atom in chain2_atoms:\n",
    "        neighbors_chain1 = ns_chain1.search(atom.coord, distance_cutoff)\n",
    "        if neighbors_chain1:\n",
    "            int_res_chain2.add(atom.get_full_id()[3][1])\n",
    "\n",
    "    return list(int_res_chain1), list(int_res_chain2)"
   ]
  },
  {
   "cell_type": "markdown",
   "id": "57276fbc",
   "metadata": {},
   "source": [
    "IMPORTANT: Change the pathway for your own"
   ]
  },
  {
   "cell_type": "code",
   "execution_count": 3,
   "id": "8ae337bd",
   "metadata": {},
   "outputs": [
    {
     "name": "stdout",
     "output_type": "stream",
     "text": [
      "Interface residues in Chain A: [386, 387, 393, 19, 24, 27, 28, 30, 31, 34, 35, 37, 38, 41, 42, 45, 324, 325, 326, 330, 79, 82, 83, 351, 352, 353, 354, 355, 357]\n",
      "Interface residues in Chain E: [403, 417, 445, 446, 447, 449, 453, 455, 456, 712, 473, 475, 476, 477, 484, 486, 487, 489, 490, 493, 495, 496, 497, 498, 499, 500, 501, 502, 503, 504, 505]\n"
     ]
    }
   ],
   "source": [
    "# load the structure \n",
    "pdb_parser = PDB.PDBParser(QUIET=True)\n",
    "structure = pdb_parser.get_structure(\"example\", \"/home/irene/Documents/BIOPYISICS/step_2/6m0j_fixed.pdb\")\n",
    "\n",
    "chain1_id = \"A\"\n",
    "chain2_id = \"E\"\n",
    "distance = 5\n",
    "\n",
    "# output\n",
    "int_res_chain1, int_res_chain2 = get_interface_residues(structure, chain1_id, chain2_id, distance)\n",
    "\n",
    "print(f\"Interface residues in Chain {chain1_id}: {int_res_chain1}\")\n",
    "print(f\"Interface residues in Chain {chain2_id}: {int_res_chain2}\")"
   ]
  },
  {
   "cell_type": "markdown",
   "id": "11f6c9df",
   "metadata": {},
   "source": [
    "SAME CODE AS ABOVE BUT THIS IS FROM THE GITHUB"
   ]
  },
  {
   "cell_type": "code",
   "execution_count": 4,
   "id": "23b5d2d9",
   "metadata": {},
   "outputs": [],
   "source": [
    "def get_interface(st, dist):\n",
    "    ''' Detects interface residues within a distance(dist)\n",
    "        Assumes two chains, i.e. a unique interface set per chain.\n",
    "    '''\n",
    "    select_ats = []\n",
    "    for at in st.get_atoms():\n",
    "        # Skip Hydrogens to reduce time\n",
    "        if at.element != 'H':\n",
    "            select_ats.append(at)\n",
    "    nbsearch = NeighborSearch(select_ats)\n",
    "    interface = {}\n",
    "    # Sets are more efficient than lists. Use sets when order is not relevant\n",
    "    for ch in st[0]:\n",
    "        interface[ch.id] = set()\n",
    "\n",
    "    for at1, at2 in nbsearch.search_all(dist):\n",
    "        #Only different chains\n",
    "        res1 = at1.get_parent()\n",
    "        ch1 = res1.get_parent()\n",
    "        res2 = at2.get_parent()\n",
    "        ch2 = res2.get_parent()\n",
    "        if ch1 != ch2:\n",
    "            interface[ch1.id].add(res1)\n",
    "            interface[ch2.id].add(res2)\n",
    "    return interface"
   ]
  },
  {
   "cell_type": "markdown",
   "id": "1d4f8f20",
   "metadata": {},
   "source": [
    "IMPORTANT: Change the pathway for your own"
   ]
  },
  {
   "cell_type": "code",
   "execution_count": 5,
   "id": "f409e000",
   "metadata": {},
   "outputs": [],
   "source": [
    "pdb_path = '/home/irene/Documents/BIOPYISICS/step_2/6m0j_fixed.pdb'\n",
    "parser = PDBParser(PERMISSIVE=1)\n",
    "distance = 5\n",
    "st = parser.get_structure('st', pdb_path)"
   ]
  },
  {
   "cell_type": "code",
   "execution_count": 6,
   "id": "80578654",
   "metadata": {},
   "outputs": [
    {
     "data": {
      "text/plain": [
       "{'A': {<Residue SER het=  resseq=19 icode= >,\n",
       "  <Residue GLN het=  resseq=24 icode= >,\n",
       "  <Residue THR het=  resseq=27 icode= >,\n",
       "  <Residue PHE het=  resseq=28 icode= >,\n",
       "  <Residue ASP het=  resseq=30 icode= >,\n",
       "  <Residue LYS het=  resseq=31 icode= >,\n",
       "  <Residue HIE het=  resseq=34 icode= >,\n",
       "  <Residue GLU het=  resseq=35 icode= >,\n",
       "  <Residue GLU het=  resseq=37 icode= >,\n",
       "  <Residue ASP het=  resseq=38 icode= >,\n",
       "  <Residue TYR het=  resseq=41 icode= >,\n",
       "  <Residue GLN het=  resseq=42 icode= >,\n",
       "  <Residue LEU het=  resseq=45 icode= >,\n",
       "  <Residue LEU het=  resseq=79 icode= >,\n",
       "  <Residue MET het=  resseq=82 icode= >,\n",
       "  <Residue TYR het=  resseq=83 icode= >,\n",
       "  <Residue THR het=  resseq=324 icode= >,\n",
       "  <Residue GLN het=  resseq=325 icode= >,\n",
       "  <Residue GLY het=  resseq=326 icode= >,\n",
       "  <Residue ASN het=  resseq=330 icode= >,\n",
       "  <Residue LYS het=  resseq=353 icode= >,\n",
       "  <Residue GLY het=  resseq=354 icode= >,\n",
       "  <Residue ASP het=  resseq=355 icode= >,\n",
       "  <Residue ARG het=  resseq=357 icode= >,\n",
       "  <Residue ARG het=  resseq=393 icode= >},\n",
       " 'E': {<Residue LYS het=  resseq=417 icode= >,\n",
       "  <Residue VAL het=  resseq=445 icode= >,\n",
       "  <Residue GLY het=  resseq=446 icode= >,\n",
       "  <Residue GLY het=  resseq=447 icode= >,\n",
       "  <Residue TYR het=  resseq=449 icode= >,\n",
       "  <Residue TYR het=  resseq=453 icode= >,\n",
       "  <Residue LEU het=  resseq=455 icode= >,\n",
       "  <Residue PHE het=  resseq=456 icode= >,\n",
       "  <Residue TYR het=  resseq=473 icode= >,\n",
       "  <Residue ALA het=  resseq=475 icode= >,\n",
       "  <Residue GLY het=  resseq=476 icode= >,\n",
       "  <Residue GLU het=  resseq=484 icode= >,\n",
       "  <Residue PHE het=  resseq=486 icode= >,\n",
       "  <Residue ASN het=  resseq=487 icode= >,\n",
       "  <Residue TYR het=  resseq=489 icode= >,\n",
       "  <Residue GLN het=  resseq=493 icode= >,\n",
       "  <Residue GLY het=  resseq=496 icode= >,\n",
       "  <Residue GLN het=  resseq=498 icode= >,\n",
       "  <Residue THR het=  resseq=500 icode= >,\n",
       "  <Residue ASN het=  resseq=501 icode= >,\n",
       "  <Residue GLY het=  resseq=502 icode= >,\n",
       "  <Residue TYR het=  resseq=505 icode= >,\n",
       "  <Residue HOH het=W resseq=712 icode= >}}"
      ]
     },
     "execution_count": 6,
     "metadata": {},
     "output_type": "execute_result"
    }
   ],
   "source": [
    "get_interface(st, distance)"
   ]
  }
 ],
 "metadata": {
  "kernelspec": {
   "display_name": "Python 3 (ipykernel)",
   "language": "python",
   "name": "python3"
  },
  "language_info": {
   "codemirror_mode": {
    "name": "ipython",
    "version": 3
   },
   "file_extension": ".py",
   "mimetype": "text/x-python",
   "name": "python",
   "nbconvert_exporter": "python",
   "pygments_lexer": "ipython3",
   "version": "3.9.13"
  }
 },
 "nbformat": 4,
 "nbformat_minor": 5
}
