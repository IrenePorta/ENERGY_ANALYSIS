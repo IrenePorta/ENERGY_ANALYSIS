{
 "cells": [
  {
   "cell_type": "markdown",
   "id": "2eea76ab",
   "metadata": {},
   "source": [
    "## Removing hetero atoms"
   ]
  },
  {
   "cell_type": "markdown",
   "id": "aa2696c8",
   "metadata": {},
   "source": [
    "**Install module biobb_structure_checking**"
   ]
  },
  {
   "cell_type": "code",
   "execution_count": 16,
   "id": "a9e56af8",
   "metadata": {
    "scrolled": true
   },
   "outputs": [
    {
     "name": "stdout",
     "output_type": "stream",
     "text": [
      "Collecting package metadata (current_repodata.json): done\n",
      "Solving environment: done\n",
      "\n",
      "\n",
      "==> WARNING: A newer version of conda exists. <==\n",
      "  current version: 22.9.0\n",
      "  latest version: 23.10.0\n",
      "\n",
      "Please update conda by running\n",
      "\n",
      "    $ conda update -n base -c defaults conda\n",
      "\n",
      "\n",
      "\n",
      "# All requested packages already installed.\n",
      "\n",
      "Retrieving notices: ...working... done\n",
      "\n",
      "Note: you may need to restart the kernel to use updated packages.\n"
     ]
    }
   ],
   "source": [
    "conda install -c bioconda biobb_structure_checking"
   ]
  },
  {
   "cell_type": "markdown",
   "id": "0b66679e",
   "metadata": {},
   "source": [
    "**Import the necessary modules**\n",
    "- base_dir_path: path of biobb_structure_checking\n",
    "- args: set the default parameters for the structure checking"
   ]
  },
  {
   "cell_type": "code",
   "execution_count": 17,
   "id": "cd1f46fa",
   "metadata": {},
   "outputs": [],
   "source": [
    "import biobb_structure_checking\n",
    "import biobb_structure_checking.constants as cts\n",
    "from biobb_structure_checking.structure_checking import StructureChecking\n",
    "base_dir_path = biobb_structure_checking.__path__[0]\n",
    "args = cts.set_defaults(base_dir_path,{'notebook':True})"
   ]
  },
  {
   "cell_type": "markdown",
   "id": "a9a8d29d",
   "metadata": {},
   "source": [
    "**CHANGE THE PATH FOR YOUR OWN** \n",
    "\n",
    "```\n",
    "base_path = os.path.expanduser( __ )\n",
    "```\n",
    "\n",
    "Defining imput and output paths for:\n",
    "- '6m0j.cif'\n",
    "- '6m0j_fixed.pdb'\n",
    "- '6m0j_fixed.pdbqt'"
   ]
  },
  {
   "cell_type": "code",
   "execution_count": 18,
   "id": "0a9040b5",
   "metadata": {},
   "outputs": [],
   "source": [
    "import os\n",
    "\n",
    "base_path = os.path.expanduser('/home/irene/Documents/BIOPYISICS/step_2')\n",
    "args['input_structure_path'] = os.path.join(base_path, '6m0j.cif')\n",
    "args['output_structure_path'] = os.path.join(base_path, '6m0j_fixed.pdb')\n",
    "args['output_structure_path_charges'] = os.path.join(base_path, '6m0j_fixed.pdbqt')\n",
    "\n",
    "args['debug'] = False\n",
    "args['verbose'] = False\n",
    "args['time_limit'] = 3600\n",
    "args['nocache'] = False\n",
    "args['copy_input'] = None\n",
    "args['build_warnings'] = False\n",
    "args['coords_only'] = False\n",
    "args['overwrite'] = False\n",
    "args['output_format'] = 'pdb'"
   ]
  },
  {
   "cell_type": "markdown",
   "id": "48c32ced",
   "metadata": {},
   "source": [
    "**Save the stucture checking path into a variable: *st_c***"
   ]
  },
  {
   "cell_type": "code",
   "execution_count": 19,
   "id": "5ca0e8de",
   "metadata": {},
   "outputs": [
    {
     "name": "stdout",
     "output_type": "stream",
     "text": [
      "Canonical sequence for model 0:\n",
      "Structure /home/irene/Documents/BIOPYISICS/step_2/6m0j.cif loaded\n",
      " PDB id: 6M0J \n",
      " Title: Crystal structure of 2019-nCoV spike receptor-binding domain bound with ACE2\n",
      " Experimental method: X-RAY DIFFRACTION\n",
      " Keywords: VIRAL PROTEIN/HYDROLASE\n",
      " Resolution (A): 2.4500\n",
      "\n",
      " Num. models: 1\n",
      " Num. chains: 2 (A: Protein, E: Protein)\n",
      " Num. residues:  876\n",
      " Num. residues with ins. codes:  0\n",
      " Num. residues with H atoms: 0\n",
      " Num. HETATM residues:  85\n",
      " Num. ligands or modified residues:  5\n",
      " Num. water mol.:  80\n",
      " Num. atoms:  6543\n",
      "Metal/Ion residues found\n",
      " ZN A901\n",
      "Small mol ligands found\n",
      "NAG A902\n",
      "NAG A903\n",
      "NAG A904\n",
      "NAG E601\n"
     ]
    }
   ],
   "source": [
    "st_c = StructureChecking(base_dir_path, args)"
   ]
  },
  {
   "cell_type": "markdown",
   "id": "06325e44",
   "metadata": {},
   "source": [
    "**Detects HETATM (excluding Water molecules)**"
   ]
  },
  {
   "cell_type": "code",
   "execution_count": 20,
   "id": "6b2c2d58",
   "metadata": {},
   "outputs": [
    {
     "name": "stdout",
     "output_type": "stream",
     "text": [
      "Running ligands.\n",
      "Detected 5 Ligands\n",
      "  ZN A901\n",
      " NAG A902\n",
      " NAG A903\n",
      " NAG A904\n",
      " NAG E601\n"
     ]
    }
   ],
   "source": [
    "st_c.ligands()"
   ]
  },
  {
   "cell_type": "markdown",
   "id": "07c2119e",
   "metadata": {},
   "source": [
    "**Delete the heteroatoms**"
   ]
  },
  {
   "cell_type": "code",
   "execution_count": 21,
   "id": "32a52c3c",
   "metadata": {},
   "outputs": [
    {
     "name": "stdout",
     "output_type": "stream",
     "text": [
      "Running ligands. Options: All\n",
      "Detected 5 Ligands\n",
      "  ZN A901\n",
      " NAG A902\n",
      " NAG A903\n",
      " NAG A904\n",
      " NAG E601\n",
      "Canonical sequence for model 0:\n",
      "Ligands removed All (5)\n"
     ]
    }
   ],
   "source": [
    "st_c.ligands('All')\n"
   ]
  },
  {
   "cell_type": "markdown",
   "id": "4d05a53a",
   "metadata": {},
   "source": [
    "**Check that there is no ligands found in the Sstructure**"
   ]
  },
  {
   "cell_type": "code",
   "execution_count": 22,
   "id": "fccd774a",
   "metadata": {},
   "outputs": [
    {
     "name": "stdout",
     "output_type": "stream",
     "text": [
      "Running ligands.\n",
      "No ligands found\n"
     ]
    }
   ],
   "source": [
    "st_c.ligands()"
   ]
  },
  {
   "cell_type": "markdown",
   "id": "f2682c21",
   "metadata": {},
   "source": [
    "## Quality checking on the structures, and add missing side-chains"
   ]
  },
  {
   "cell_type": "markdown",
   "id": "9c5f931f",
   "metadata": {},
   "source": [
    "**Visualize the residues with missing blackbone atoms**"
   ]
  },
  {
   "cell_type": "code",
   "execution_count": 23,
   "id": "2e0df56a",
   "metadata": {},
   "outputs": [
    {
     "name": "stdout",
     "output_type": "stream",
     "text": [
      "Running backbone.\n",
      "Found 2 Residues with missing backbone atoms\n",
      " ASP A615   OXT\n",
      " GLY E526   OXT\n",
      "No backbone breaks\n",
      "No unexpected backbone links\n"
     ]
    }
   ],
   "source": [
    "st_c.backbone()\n"
   ]
  },
  {
   "cell_type": "markdown",
   "id": "a58c7bae",
   "metadata": {},
   "source": [
    "**Detect and fix the found residues in the backbone**"
   ]
  },
  {
   "cell_type": "code",
   "execution_count": 24,
   "id": "2af49e3a",
   "metadata": {},
   "outputs": [
    {
     "name": "stdout",
     "output_type": "stream",
     "text": [
      "Running backbone. Options: --fix_atoms All --fix_chain none --add_caps none\n",
      "Found 2 Residues with missing backbone atoms\n",
      " ASP A615   OXT\n",
      " GLY E526   OXT\n",
      "No backbone breaks\n",
      "No unexpected backbone links\n",
      "Capping terminal ends\n",
      "True terminal residues: A19,A615,E333,E526\n",
      "No caps added\n",
      "Fixing missing backbone atoms\n",
      "Adding missing backbone atoms\n",
      "ASP A615\n",
      "  Adding new atom OXT\n",
      "GLY E526\n",
      "  Adding new atom OXT\n",
      "Fixed 2 backbone atom(s)\n",
      "Checking for steric clashes\n",
      "No severe clashes detected\n",
      "No apolar clashes detected\n",
      "No polar_acceptor clashes detected\n",
      "No polar_donor clashes detected\n",
      "No positive clashes detected\n",
      "No negative clashes detected\n"
     ]
    }
   ],
   "source": [
    "st_c.backbone('--fix_atoms All --fix_chain none --add_caps none')"
   ]
  },
  {
   "cell_type": "markdown",
   "id": "e8bd65fe",
   "metadata": {},
   "source": [
    "**Add mising side chains**"
   ]
  },
  {
   "cell_type": "code",
   "execution_count": 25,
   "id": "38b99c88",
   "metadata": {},
   "outputs": [
    {
     "name": "stdout",
     "output_type": "stream",
     "text": [
      "Running fixside.\n",
      "Found no residues with missing or unknown side chain atoms\n"
     ]
    }
   ],
   "source": [
    "st_c.fixside()\n"
   ]
  },
  {
   "cell_type": "markdown",
   "id": "177528c3",
   "metadata": {},
   "source": [
    "## Add_hydrogens"
   ]
  },
  {
   "cell_type": "markdown",
   "id": "777ef181",
   "metadata": {},
   "source": [
    "**Identify the residues witch need a hidrogen**"
   ]
  },
  {
   "cell_type": "code",
   "execution_count": 26,
   "id": "0bc34a79",
   "metadata": {},
   "outputs": [
    {
     "name": "stdout",
     "output_type": "stream",
     "text": [
      "Running add_hydrogen.\n",
      "Found 240 Residues requiring selection on adding H atoms\n"
     ]
    }
   ],
   "source": [
    "st_c.add_hydrogen()"
   ]
  },
  {
   "cell_type": "markdown",
   "id": "1f04544a",
   "metadata": {},
   "source": [
    "**Add the hidrogens to the previous selected atoms**"
   ]
  },
  {
   "cell_type": "code",
   "execution_count": 27,
   "id": "25d2d3b4",
   "metadata": {},
   "outputs": [
    {
     "name": "stdout",
     "output_type": "stream",
     "text": [
      "Running add_hydrogen. Options: auto\n",
      "Found 240 Residues requiring selection on adding H atoms\n",
      "WARNING: fixing side chains, override with --no_fix_side\n",
      "Running fixside. Options: --fix all\n",
      "Found no residues with missing or unknown side chain atoms\n",
      "Selection: auto\n",
      "Replacing HIS A34 by HIE\n",
      "Replacing HIS A195 by HIE\n",
      "Replacing HIS A228 by HIE\n",
      "Replacing HIS A239 by HIE\n",
      "Replacing HIS A241 by HIE\n",
      "Replacing HIS A265 by HIE\n",
      "Replacing HIS A345 by HIE\n",
      "Replacing HIS A373 by HIE\n",
      "Replacing HIS A374 by HIE\n",
      "Replacing HIS A378 by HIE\n",
      "Replacing HIS A401 by HIE\n",
      "Replacing HIS A417 by HIE\n",
      "Replacing HIS A493 by HIE\n",
      "Replacing HIS A505 by HIE\n",
      "Replacing HIS A535 by HIE\n",
      "Replacing HIS A540 by HIE\n",
      "Replacing HIS E519 by HIE\n"
     ]
    }
   ],
   "source": [
    "st_c.add_hydrogen('auto')\n"
   ]
  },
  {
   "cell_type": "markdown",
   "id": "9a1258ad",
   "metadata": {},
   "source": [
    "## SAVE CHANGES"
   ]
  },
  {
   "cell_type": "code",
   "execution_count": 28,
   "id": "304015a3",
   "metadata": {},
   "outputs": [
    {
     "data": {
      "text/plain": [
       "'/home/irene/Documents/BIOPYISICS/step_2/6m0j_fixed.pdb'"
      ]
     },
     "execution_count": 28,
     "metadata": {},
     "output_type": "execute_result"
    }
   ],
   "source": [
    "st_c._save_structure(args['output_structure_path'])\n"
   ]
  }
 ],
 "metadata": {
  "kernelspec": {
   "display_name": "Python 3 (ipykernel)",
   "language": "python",
   "name": "python3"
  },
  "language_info": {
   "codemirror_mode": {
    "name": "ipython",
    "version": 3
   },
   "file_extension": ".py",
   "mimetype": "text/x-python",
   "name": "python",
   "nbconvert_exporter": "python",
   "pygments_lexer": "ipython3",
   "version": "3.9.13"
  }
 },
 "nbformat": 4,
 "nbformat_minor": 5
}
