{
 "cells": [
  {
   "cell_type": "code",
   "execution_count": 13,
   "id": "acec0305",
   "metadata": {},
   "outputs": [],
   "source": [
    "import biobb_structure_checking\n",
    "import biobb_structure_checking.constants as cts\n",
    "from biobb_structure_checking.structure_checking import StructureChecking\n",
    "base_dir_path=biobb_structure_checking.__path__[0]\n",
    "args = cts.set_defaults(base_dir_path,{'notebook':True})"
   ]
  },
  {
   "cell_type": "markdown",
   "id": "f92130ca",
   "metadata": {},
   "source": [
    "## STEP 2"
   ]
  },
  {
   "cell_type": "code",
   "execution_count": 14,
   "id": "f3d1ff96",
   "metadata": {},
   "outputs": [],
   "source": [
    "import argparse\n",
    "import sys\n",
    "import os\n",
    "import math\n",
    "\n",
    "from Bio.PDB.PDBParser import PDBParser\n",
    "from Bio.PDB.NACCESS import NACCESS_atomic\n",
    "from Bio.PDB.NeighborSearch import NeighborSearch\n",
    "from Bio.PDB.PDBIO import PDBIO, Select"
   ]
  },
  {
   "cell_type": "markdown",
   "id": "9e051ce2",
   "metadata": {},
   "source": [
    "**IMPORT PARAMETERS OF THE RESIDUE LIBRARY**"
   ]
  },
  {
   "cell_type": "code",
   "execution_count": 15,
   "id": "15059620",
   "metadata": {},
   "outputs": [],
   "source": [
    "class ResiduesDataLib():\n",
    "    def __init__(self, fname):\n",
    "        self.residue_data = {}\n",
    "        try:\n",
    "            fh = open(fname, \"r\")\n",
    "        except OSError:\n",
    "            print(\"#ERROR while loading library file (\", fname, \")\")\n",
    "            sys.exit(2)\n",
    "        for line in fh:\n",
    "            if line[0] == '#':\n",
    "                continue\n",
    "            data = line.split()\n",
    "            r = Residue(data)\n",
    "            self.residue_data[r.id] = r\n",
    "        self.nres = len(self.residue_data)\n",
    "\n",
    "    def get_params(self, resid, atid):\n",
    "        atom_id = resid + ':' + atid\n",
    "        if atom_id in self.residue_data:\n",
    "            return self.residue_data[atom_id]\n",
    "        else:\n",
    "            print(\"WARNING: atom not found in library (\", atom_id, ')')\n",
    "            return None"
   ]
  },
  {
   "cell_type": "markdown",
   "id": "181ee226",
   "metadata": {},
   "source": [
    "Defining classes"
   ]
  },
  {
   "cell_type": "code",
   "execution_count": 16,
   "id": "0ddaa55d",
   "metadata": {},
   "outputs": [],
   "source": [
    "class Residue():\n",
    "    def __init__(self, data):\n",
    "        self.id = data[0] + ':' + data[1]\n",
    "        self.at_type = data[2]\n",
    "        self.charge = float(data[3])\n",
    "        \n",
    "class AtomType():\n",
    "    def __init__(self, data):\n",
    "        self.id   = data[0]\n",
    "        self.eps  = float(data[1])\n",
    "        self.sig  = float(data[2])\n",
    "        self.mass = float(data[3])\n",
    "        self.fsrf = float(data[4])\n",
    "        self.rvdw = self.sig * 0.5612\n",
    "        \n",
    "class VdwParamset(): #extracted from GELPI's github\n",
    "    #parameters for the VdW\n",
    "    def __init__ (self, file_name):\n",
    "        self.at_types = {}\n",
    "        try:\n",
    "            fh = open(file_name, \"r\")\n",
    "        except OSError:\n",
    "            print (\"#ERROR while loading parameter file (\", file_name, \")\")\n",
    "            sys.exit(2)\n",
    "        for line in fh:\n",
    "            if line[0] == '#':\n",
    "                continue\n",
    "            data = line.split()\n",
    "            self.at_types[data[0]] = AtomType(data)\n",
    "        self.ntypes = len(self.at_types)\n",
    "        fh.close()"
   ]
  },
  {
   "cell_type": "markdown",
   "id": "f1718aa9",
   "metadata": {},
   "source": [
    "**LOAD PARAMERTERS FROM THE FILES**"
   ]
  },
  {
   "cell_type": "markdown",
   "id": "ae1fd1dd",
   "metadata": {},
   "source": [
    "IMPORTANT: Change the pathway for your own"
   ]
  },
  {
   "cell_type": "code",
   "execution_count": 17,
   "id": "c47c954d",
   "metadata": {},
   "outputs": [],
   "source": [
    "res_lib = ResiduesDataLib('/home/irene/Documents/BIOPYISICS/step 2/residue_library.txt')\n",
    "\n",
    "ff_params = VdwParamset('/home/irene/Documents/BIOPYISICS/step 2/vdwprm')\n"
   ]
  },
  {
   "cell_type": "code",
   "execution_count": 18,
   "id": "bfc5d493",
   "metadata": {},
   "outputs": [],
   "source": [
    "# set the pdb_path and load the structure\n",
    "pdb_path = '/home/irene/Documents/BIOPYISICS/step 2/6m0j_fixed.pdb'\n",
    "# Setting the Bio.PDB.Parser object\n",
    "parser = PDBParser(PERMISSIVE=1)\n",
    "# Loading structure\n",
    "st = parser.get_structure('st', pdb_path)"
   ]
  },
  {
   "cell_type": "markdown",
   "id": "03f20610",
   "metadata": {},
   "source": [
    "**SERCHING FOR ENERGIES TO PUT IN THE FORMULE**"
   ]
  },
  {
   "cell_type": "code",
   "execution_count": 19,
   "id": "36070710",
   "metadata": {},
   "outputs": [],
   "source": [
    "def add_atom_parameters(st, res_lib, ff_params):\n",
    "    ''' Adds parameters from libraries to atom .xtra field\n",
    "        For not recognized atoms, issues a warning and put default parameters\n",
    "    '''\n",
    "    for at in st.get_atoms():\n",
    "        resname = at.get_parent().get_resname()\n",
    "        params = res_lib.get_params(resname, at.id)\n",
    "        if not params:\n",
    "            print(\"WARNING: residue/atom pair not in library (\"+atom_id(at) + ')')\n",
    "            at.xtra['atom_type'] = at.element\n",
    "            at.xtra['charge'] = 0\n",
    "        else:\n",
    "            at.xtra['atom_type'] = params.at_type\n",
    "            at.xtra['charge'] = params.charge\n",
    "        at.xtra['vdw'] = ff_params.at_types[at.xtra['atom_type']]"
   ]
  },
  {
   "cell_type": "markdown",
   "id": "aef703fc",
   "metadata": {},
   "source": [
    "CALL FUNCTION TO ENTER PARAMETERS\n",
    "* res_lib and ff_ params --> parameters already imported above\n",
    "* st --> structure of the protein, file imported from the path (above) (load parameters section)"
   ]
  },
  {
   "cell_type": "code",
   "execution_count": 20,
   "id": "0082b582",
   "metadata": {},
   "outputs": [],
   "source": [
    "add_atom_parameters(st, res_lib, ff_params)"
   ]
  },
  {
   "cell_type": "markdown",
   "id": "e79c599a",
   "metadata": {},
   "source": [
    "los atoms que dan error son los que se ubican en la c terminal and n terminal\n",
    "solucion: corregir en el mismo file los warning\n",
    "* GLY OXT    O     -0.5722 --> i have to modified from GLYN "
   ]
  },
  {
   "cell_type": "code",
   "execution_count": 21,
   "id": "b0141142",
   "metadata": {},
   "outputs": [],
   "source": [
    "def get_interface(st, dist):\n",
    "    ''' Detects interface residues within a distance(dist)\n",
    "        Assumes two chains, i.e. a unique interface set per chain.\n",
    "    '''\n",
    "    select_ats = []\n",
    "    for at in st.get_atoms():\n",
    "        # Skip Hydrogens to reduce time\n",
    "        if at.element != 'H':\n",
    "            select_ats.append(at)\n",
    "    nbsearch = NeighborSearch(select_ats)\n",
    "    interface = {}\n",
    "    # Sets are more efficient than lists. Use sets when order is not relevant\n",
    "    for ch in st[0]:\n",
    "        interface[ch.id] = set()\n",
    "\n",
    "    for at1, at2 in nbsearch.search_all(dist):\n",
    "        #Only different chains\n",
    "        res1 = at1.get_parent()\n",
    "        ch1 = res1.get_parent()\n",
    "        res2 = at2.get_parent()\n",
    "        ch2 = res2.get_parent()\n",
    "        if ch1 != ch2:\n",
    "            interface[ch1.id].add(res1)\n",
    "            interface[ch2.id].add(res2)\n",
    "    return interface"
   ]
  },
  {
   "cell_type": "code",
   "execution_count": 22,
   "id": "99e802f9",
   "metadata": {},
   "outputs": [
    {
     "data": {
      "text/plain": [
       "{'A': {<Residue GLN het=  resseq=24 icode= >,\n",
       "  <Residue PHE het=  resseq=28 icode= >,\n",
       "  <Residue ASP het=  resseq=30 icode= >,\n",
       "  <Residue LYS het=  resseq=31 icode= >,\n",
       "  <Residue HIE het=  resseq=34 icode= >,\n",
       "  <Residue GLU het=  resseq=35 icode= >,\n",
       "  <Residue GLU het=  resseq=37 icode= >,\n",
       "  <Residue ASP het=  resseq=38 icode= >,\n",
       "  <Residue TYR het=  resseq=41 icode= >,\n",
       "  <Residue GLN het=  resseq=42 icode= >,\n",
       "  <Residue TYR het=  resseq=83 icode= >,\n",
       "  <Residue LYS het=  resseq=353 icode= >,\n",
       "  <Residue GLY het=  resseq=354 icode= >,\n",
       "  <Residue ASP het=  resseq=355 icode= >},\n",
       " 'E': {<Residue LYS het=  resseq=417 icode= >,\n",
       "  <Residue GLY het=  resseq=446 icode= >,\n",
       "  <Residue TYR het=  resseq=449 icode= >,\n",
       "  <Residue TYR het=  resseq=453 icode= >,\n",
       "  <Residue ASN het=  resseq=487 icode= >,\n",
       "  <Residue TYR het=  resseq=489 icode= >,\n",
       "  <Residue GLN het=  resseq=493 icode= >,\n",
       "  <Residue GLY het=  resseq=496 icode= >,\n",
       "  <Residue GLN het=  resseq=498 icode= >,\n",
       "  <Residue THR het=  resseq=500 icode= >,\n",
       "  <Residue ASN het=  resseq=501 icode= >,\n",
       "  <Residue GLY het=  resseq=502 icode= >,\n",
       "  <Residue TYR het=  resseq=505 icode= >}}"
      ]
     },
     "execution_count": 22,
     "metadata": {},
     "output_type": "execute_result"
    }
   ],
   "source": [
    "get_interface(st, 3.5) # These are the residues of the interface"
   ]
  },
  {
   "cell_type": "code",
   "execution_count": 23,
   "id": "1c043f9d",
   "metadata": {},
   "outputs": [],
   "source": [
    "def MH_diel(r):\n",
    "    '''Mehler-Solmajer dielectric'''\n",
    "    return 86.9525 / (1 - 7.7839 * math.exp(-0.3153 * r)) - 8.5525\n",
    "\n",
    "\n",
    "def elec_int(at1, at2, r):\n",
    "    '''Electrostatic interaction energy between two atoms at r distance'''\n",
    "    return 332.16 * at1.xtra['charge'] * at2.xtra['charge'] / MH_diel(r) / r\n",
    "\n",
    "\n",
    "def vdw_int(at1, at2, r):\n",
    "    '''Vdw interaction energy between two atoms'''\n",
    "    eps12 = math.sqrt(at1.xtra['vdw'].eps * at2.xtra['vdw'].eps)\n",
    "    sig12_2 = at1.xtra['vdw'].sig * at2.xtra['vdw'].sig\n",
    "    return 4 * eps12 * (sig12_2**6/r**12 - sig12_2**3/r**6)\n",
    "\n",
    "\n",
    "def calc_solvation(st, res):\n",
    "    '''Solvation energy based on ASA for one residue'''\n",
    "    solv = 0.\n",
    "    for at in res.get_atoms():\n",
    "        if 'EXP_NACCESS' not in at.xtra:\n",
    "            continue\n",
    "        s = float(at.xtra['EXP_NACCESS'])* at.xtra['vdw'].fsrf\n",
    "        solv += s\n",
    "    return solv"
   ]
  },
  {
   "cell_type": "code",
   "execution_count": 24,
   "id": "588cce62",
   "metadata": {},
   "outputs": [],
   "source": [
    "def calc_int_energies(st, res):\n",
    "    '''Returns interaction energies (residue against other chains)\n",
    "        for all atoms and for Ala atoms\n",
    "    '''\n",
    "    elec = 0.\n",
    "    vdw = 0.\n",
    "\n",
    "    for at1 in res.get_atoms():\n",
    "        for at2 in st.get_atoms():\n",
    "        # skip same chain atom pairs\n",
    "            if at2.get_parent().get_parent() != res.get_parent():\n",
    "                r = at1 - at2\n",
    "                e = elec_int(at1, at2, r)\n",
    "                elec += e\n",
    "                e = vdw_int(at1, at2, r)\n",
    "                vdw += e\n",
    "    return elec, vdw"
   ]
  },
  {
   "cell_type": "markdown",
   "id": "b1838ef7",
   "metadata": {},
   "source": [
    "**CALLCULATION OF THE TOTAL ENERGY** (for all the residues)"
   ]
  },
  {
   "cell_type": "markdown",
   "id": "4e2026b6",
   "metadata": {},
   "source": [
    "IMPORTANT: \n",
    "- Change the NACCESS_BINARY pathway for your own\n",
    "- Check if the pathway in naccess file (EXE_PATH) is correct"
   ]
  },
  {
   "cell_type": "code",
   "execution_count": 29,
   "id": "3ac34356",
   "metadata": {},
   "outputs": [
    {
     "ename": "Exception",
     "evalue": "NACCESS did not execute or finish properly.",
     "output_type": "error",
     "traceback": [
      "\u001b[0;31m---------------------------------------------------------------------------\u001b[0m",
      "\u001b[0;31mException\u001b[0m                                 Traceback (most recent call last)",
      "\u001b[0;32m/tmp/ipykernel_6087/535353209.py\u001b[0m in \u001b[0;36m<module>\u001b[0;34m\u001b[0m\n\u001b[1;32m      1\u001b[0m \u001b[0mNACCESS_BINARY\u001b[0m \u001b[0;34m=\u001b[0m \u001b[0;34m'/home/irene/Documents/BIOPYISICS/step 2/Parameters_solvation/soft/NACCESS/naccess'\u001b[0m\u001b[0;34m\u001b[0m\u001b[0;34m\u001b[0m\u001b[0m\n\u001b[0;32m----> 2\u001b[0;31m \u001b[0msrf\u001b[0m \u001b[0;34m=\u001b[0m \u001b[0mNACCESS_atomic\u001b[0m\u001b[0;34m(\u001b[0m\u001b[0mst\u001b[0m\u001b[0;34m[\u001b[0m\u001b[0;36m0\u001b[0m\u001b[0;34m]\u001b[0m\u001b[0;34m,\u001b[0m \u001b[0mnaccess_binary\u001b[0m \u001b[0;34m=\u001b[0m \u001b[0mNACCESS_BINARY\u001b[0m\u001b[0;34m)\u001b[0m\u001b[0;34m\u001b[0m\u001b[0;34m\u001b[0m\u001b[0m\n\u001b[0m\u001b[1;32m      3\u001b[0m \u001b[0mio\u001b[0m \u001b[0;34m=\u001b[0m \u001b[0mPDBIO\u001b[0m\u001b[0;34m(\u001b[0m\u001b[0;34m)\u001b[0m\u001b[0;34m\u001b[0m\u001b[0;34m\u001b[0m\u001b[0m\n\u001b[1;32m      4\u001b[0m \u001b[0mst_chains\u001b[0m \u001b[0;34m=\u001b[0m \u001b[0;34m{\u001b[0m\u001b[0;34m}\u001b[0m\u001b[0;34m\u001b[0m\u001b[0;34m\u001b[0m\u001b[0m\n\u001b[1;32m      5\u001b[0m \u001b[0;34m\u001b[0m\u001b[0m\n",
      "\u001b[0;32m~/anaconda3/lib/python3.9/site-packages/Bio/PDB/NACCESS.py\u001b[0m in \u001b[0;36m__init__\u001b[0;34m(self, model, pdb_file, naccess_binary, tmp_directory)\u001b[0m\n\u001b[1;32m    173\u001b[0m     ):\n\u001b[1;32m    174\u001b[0m         \u001b[0;34m\"\"\"Initialize the class.\"\"\"\u001b[0m\u001b[0;34m\u001b[0m\u001b[0;34m\u001b[0m\u001b[0m\n\u001b[0;32m--> 175\u001b[0;31m         res_data, atm_data = run_naccess(\n\u001b[0m\u001b[1;32m    176\u001b[0m             \u001b[0mmodel\u001b[0m\u001b[0;34m,\u001b[0m \u001b[0mpdb_file\u001b[0m\u001b[0;34m,\u001b[0m \u001b[0mnaccess\u001b[0m\u001b[0;34m=\u001b[0m\u001b[0mnaccess_binary\u001b[0m\u001b[0;34m,\u001b[0m \u001b[0mtemp_path\u001b[0m\u001b[0;34m=\u001b[0m\u001b[0mtmp_directory\u001b[0m\u001b[0;34m\u001b[0m\u001b[0;34m\u001b[0m\u001b[0m\n\u001b[1;32m    177\u001b[0m         )\n",
      "\u001b[0;32m~/anaconda3/lib/python3.9/site-packages/Bio/PDB/NACCESS.py\u001b[0m in \u001b[0;36mrun_naccess\u001b[0;34m(model, pdb_file, probe_size, z_slice, naccess, temp_path)\u001b[0m\n\u001b[1;32m     78\u001b[0m \u001b[0;34m\u001b[0m\u001b[0m\n\u001b[1;32m     79\u001b[0m     \u001b[0;32mif\u001b[0m \u001b[0;34m(\u001b[0m\u001b[0;32mnot\u001b[0m \u001b[0mos\u001b[0m\u001b[0;34m.\u001b[0m\u001b[0mpath\u001b[0m\u001b[0;34m.\u001b[0m\u001b[0mexists\u001b[0m\u001b[0;34m(\u001b[0m\u001b[0mrsa_file\u001b[0m\u001b[0;34m)\u001b[0m\u001b[0;34m)\u001b[0m \u001b[0;32mor\u001b[0m \u001b[0;34m(\u001b[0m\u001b[0;32mnot\u001b[0m \u001b[0mos\u001b[0m\u001b[0;34m.\u001b[0m\u001b[0mpath\u001b[0m\u001b[0;34m.\u001b[0m\u001b[0mexists\u001b[0m\u001b[0;34m(\u001b[0m\u001b[0masa_file\u001b[0m\u001b[0;34m)\u001b[0m\u001b[0;34m)\u001b[0m\u001b[0;34m:\u001b[0m\u001b[0;34m\u001b[0m\u001b[0;34m\u001b[0m\u001b[0m\n\u001b[0;32m---> 80\u001b[0;31m         \u001b[0;32mraise\u001b[0m \u001b[0mException\u001b[0m\u001b[0;34m(\u001b[0m\u001b[0;34m\"NACCESS did not execute or finish properly.\"\u001b[0m\u001b[0;34m)\u001b[0m\u001b[0;34m\u001b[0m\u001b[0;34m\u001b[0m\u001b[0m\n\u001b[0m\u001b[1;32m     81\u001b[0m \u001b[0;34m\u001b[0m\u001b[0m\n\u001b[1;32m     82\u001b[0m     \u001b[0;31m# get the output, then delete the temp directory\u001b[0m\u001b[0;34m\u001b[0m\u001b[0;34m\u001b[0m\u001b[0m\n",
      "\u001b[0;31mException\u001b[0m: NACCESS did not execute or finish properly."
     ]
    }
   ],
   "source": [
    "NACCESS_BINARY = '/home/irene/Documents/BIOPYISICS/step 2/Parameters_solvation/soft/NACCESS/naccess'\n",
    "srf = NACCESS_atomic(st[0], naccess_binary = NACCESS_BINARY)\n",
    "io = PDBIO()\n",
    "st_chains = {}\n",
    "\n",
    "# Using BioIO trick (see tutorial) to select chains\n",
    "class SelectChain(Select):\n",
    "    def __init__(self, chid):\n",
    "        self.id = chid\n",
    "\n",
    "    def accept_chain(self, chain):\n",
    "        if chain.id == self.id:\n",
    "            return 1\n",
    "        else:\n",
    "            return 0\n",
    "\n",
    "for ch in st[0]:\n",
    "    io.set_structure(st)\n",
    "    io.save('tmp.pdb', SelectChain(ch.id))\n",
    "    st_chains[ch.id] = parser.get_structure('stA', 'tmp.pdb')\n",
    "    add_atom_parameters(st_chains[ch.id], residue_library, ff_params)\n",
    "    srfA = NACCESS_atomic(st_chains[ch.id][0], naccess_binary=NACCESS_BINARY)\n",
    "os.remove('tmp.pdb')\n",
    "\n",
    "\n",
    "## Initiatlize Energy aggregates\n",
    "elec = {}\n",
    "vdw = {}\n",
    "solvAB = {}\n",
    "solvA = {}\n",
    "\n",
    "totalIntElec = 0.\n",
    "totalIntVdw = 0.\n",
    "totalSolv = 0.\n",
    "totalSolvMon = {}\n",
    "\n",
    "## We get the chains ids\n",
    "chids = []\n",
    "for ch in st[0]:\n",
    "    chids.append(ch.id)\n",
    "    totalSolvMon[ch.id] = 0\n",
    "\n",
    "total = 0.\n",
    "\n",
    "for ch in st[0]:\n",
    "    for res in ch.get_residues():\n",
    "        elec[res], vdw[res] = calc_int_energies(st[0], res)\n",
    "        solvAB[res] = calc_solvation(st[0], res)\n",
    "        solvA[res]  = calc_solvation(st_chains[ch.id],st_chains[ch.id][0][ch.id][res.id[1]])\n",
    "        totalIntElec += elec[res]\n",
    "        totalIntVdw += vdw[res]\n",
    "        totalSolv += solvAB[res]\n",
    "        totalSolvMon[ch.id] += solvA[res]\n",
    "        total += elec[res] + vdw[res] + solvAB[res] - solvA[res]\n",
    "\n",
    "print()\n",
    "print('Total Elec Int. =', totalIntElec)\n",
    "print('Total Vdw Int. =', totalIntVdw)\n",
    "print('Total Solvation Complex =', totalSolv)\n",
    "print('Total Solv ', chids[0], '=', totalSolvMon[chids[0]])\n",
    "print('Total Solv ', chids[1], '=', totalSolvMon[chids[1]])\n",
    "print('DG int =', total)"
   ]
  },
  {
   "cell_type": "markdown",
   "id": "89a5f124",
   "metadata": {},
   "source": [
    "**CALCULATION OF THE TOTAL ENERGY** (for the interface residues)"
   ]
  },
  {
   "cell_type": "markdown",
   "id": "c827b6c2",
   "metadata": {},
   "source": [
    "IMPORTANT: Change the pathway for your own"
   ]
  },
  {
   "cell_type": "code",
   "execution_count": 31,
   "id": "40bf5702",
   "metadata": {},
   "outputs": [
    {
     "ename": "Exception",
     "evalue": "NACCESS did not execute or finish properly.",
     "output_type": "error",
     "traceback": [
      "\u001b[0;31m---------------------------------------------------------------------------\u001b[0m",
      "\u001b[0;31mException\u001b[0m                                 Traceback (most recent call last)",
      "\u001b[0;32m/tmp/ipykernel_6087/3258516349.py\u001b[0m in \u001b[0;36m<module>\u001b[0;34m\u001b[0m\n\u001b[1;32m      2\u001b[0m \u001b[0mst_chains\u001b[0m \u001b[0;34m=\u001b[0m \u001b[0;34m{\u001b[0m\u001b[0;34m}\u001b[0m\u001b[0;34m\u001b[0m\u001b[0;34m\u001b[0m\u001b[0m\n\u001b[1;32m      3\u001b[0m \u001b[0mNACCESS_BINARY\u001b[0m \u001b[0;34m=\u001b[0m \u001b[0;34m'/home/irene/Documents/BIOPYISICS/step 2/Parameters_solvation/soft/NACCESS/naccess'\u001b[0m\u001b[0;34m\u001b[0m\u001b[0;34m\u001b[0m\u001b[0m\n\u001b[0;32m----> 4\u001b[0;31m \u001b[0msrf\u001b[0m \u001b[0;34m=\u001b[0m \u001b[0mNACCESS_atomic\u001b[0m\u001b[0;34m(\u001b[0m\u001b[0mst\u001b[0m\u001b[0;34m[\u001b[0m\u001b[0;36m0\u001b[0m\u001b[0;34m]\u001b[0m\u001b[0;34m,\u001b[0m \u001b[0mnaccess_binary\u001b[0m \u001b[0;34m=\u001b[0m \u001b[0mNACCESS_BINARY\u001b[0m\u001b[0;34m)\u001b[0m\u001b[0;34m\u001b[0m\u001b[0;34m\u001b[0m\u001b[0m\n\u001b[0m\u001b[1;32m      5\u001b[0m \u001b[0;34m\u001b[0m\u001b[0m\n\u001b[1;32m      6\u001b[0m \u001b[0;34m\u001b[0m\u001b[0m\n",
      "\u001b[0;32m~/anaconda3/lib/python3.9/site-packages/Bio/PDB/NACCESS.py\u001b[0m in \u001b[0;36m__init__\u001b[0;34m(self, model, pdb_file, naccess_binary, tmp_directory)\u001b[0m\n\u001b[1;32m    173\u001b[0m     ):\n\u001b[1;32m    174\u001b[0m         \u001b[0;34m\"\"\"Initialize the class.\"\"\"\u001b[0m\u001b[0;34m\u001b[0m\u001b[0;34m\u001b[0m\u001b[0m\n\u001b[0;32m--> 175\u001b[0;31m         res_data, atm_data = run_naccess(\n\u001b[0m\u001b[1;32m    176\u001b[0m             \u001b[0mmodel\u001b[0m\u001b[0;34m,\u001b[0m \u001b[0mpdb_file\u001b[0m\u001b[0;34m,\u001b[0m \u001b[0mnaccess\u001b[0m\u001b[0;34m=\u001b[0m\u001b[0mnaccess_binary\u001b[0m\u001b[0;34m,\u001b[0m \u001b[0mtemp_path\u001b[0m\u001b[0;34m=\u001b[0m\u001b[0mtmp_directory\u001b[0m\u001b[0;34m\u001b[0m\u001b[0;34m\u001b[0m\u001b[0m\n\u001b[1;32m    177\u001b[0m         )\n",
      "\u001b[0;32m~/anaconda3/lib/python3.9/site-packages/Bio/PDB/NACCESS.py\u001b[0m in \u001b[0;36mrun_naccess\u001b[0;34m(model, pdb_file, probe_size, z_slice, naccess, temp_path)\u001b[0m\n\u001b[1;32m     78\u001b[0m \u001b[0;34m\u001b[0m\u001b[0m\n\u001b[1;32m     79\u001b[0m     \u001b[0;32mif\u001b[0m \u001b[0;34m(\u001b[0m\u001b[0;32mnot\u001b[0m \u001b[0mos\u001b[0m\u001b[0;34m.\u001b[0m\u001b[0mpath\u001b[0m\u001b[0;34m.\u001b[0m\u001b[0mexists\u001b[0m\u001b[0;34m(\u001b[0m\u001b[0mrsa_file\u001b[0m\u001b[0;34m)\u001b[0m\u001b[0;34m)\u001b[0m \u001b[0;32mor\u001b[0m \u001b[0;34m(\u001b[0m\u001b[0;32mnot\u001b[0m \u001b[0mos\u001b[0m\u001b[0;34m.\u001b[0m\u001b[0mpath\u001b[0m\u001b[0;34m.\u001b[0m\u001b[0mexists\u001b[0m\u001b[0;34m(\u001b[0m\u001b[0masa_file\u001b[0m\u001b[0;34m)\u001b[0m\u001b[0;34m)\u001b[0m\u001b[0;34m:\u001b[0m\u001b[0;34m\u001b[0m\u001b[0;34m\u001b[0m\u001b[0m\n\u001b[0;32m---> 80\u001b[0;31m         \u001b[0;32mraise\u001b[0m \u001b[0mException\u001b[0m\u001b[0;34m(\u001b[0m\u001b[0;34m\"NACCESS did not execute or finish properly.\"\u001b[0m\u001b[0;34m)\u001b[0m\u001b[0;34m\u001b[0m\u001b[0;34m\u001b[0m\u001b[0m\n\u001b[0m\u001b[1;32m     81\u001b[0m \u001b[0;34m\u001b[0m\u001b[0m\n\u001b[1;32m     82\u001b[0m     \u001b[0;31m# get the output, then delete the temp directory\u001b[0m\u001b[0;34m\u001b[0m\u001b[0;34m\u001b[0m\u001b[0m\n",
      "\u001b[0;31mException\u001b[0m: NACCESS did not execute or finish properly."
     ]
    }
   ],
   "source": [
    "io = PDBIO()\n",
    "st_chains = {}\n",
    "NACCESS_BINARY = '/home/irene/Documents/BIOPYISICS/step 2/Parameters_solvation/soft/NACCESS/naccess'\n",
    "srf = NACCESS_atomic(st[0], naccess_binary = NACCESS_BINARY)\n",
    "\n",
    "\n",
    "# Using BioIO trick (see tutorial) to select chains\n",
    "class SelectChain(Select):\n",
    "    def __init__(self, chid):\n",
    "        self.id = chid\n",
    "\n",
    "    def accept_chain(self, chain):\n",
    "        if chain.id == self.id:\n",
    "            return 1\n",
    "        else:\n",
    "            return 0\n",
    "\n",
    "for ch in st[0]:\n",
    "    io.set_structure(st)\n",
    "    io.save('tmp.pdb', SelectChain(ch.id))\n",
    "    st_chains[ch.id] = parser.get_structure('stA', 'tmp.pdb')\n",
    "    add_atom_parameters(st_chains[ch.id], residue_library, ff_params)\n",
    "    srfA = NACCESS_atomic(st_chains[ch.id][0], naccess_binary=NACCESS_BINARY)\n",
    "os.remove('tmp.pdb')\n",
    "\n",
    "# Interface residues\n",
    "\n",
    "max_dist = 3.5\n",
    "\n",
    "if max_dist > 0.:\n",
    "    interface = get_interface(st, max_dist)\n",
    "\n",
    "# Initiatlize Energy aggregates\n",
    "\n",
    "elec = {}\n",
    "##elec_ala = {}\n",
    "\n",
    "vdw = {}\n",
    "##vdw_ala = {}\n",
    "\n",
    "solvAB = {}\n",
    "##solvAB_ala = {}\n",
    "\n",
    "solvA = {}\n",
    "##solvA_ala = {}\n",
    "\n",
    "totalIntElec = 0.\n",
    "totalIntVdw = 0.\n",
    "totalSolv = 0.\n",
    "totalSolvMon = {}\n",
    "\n",
    "chids = []\n",
    "for chain in st[0]:\n",
    "    chids.append(chain.id)\n",
    "    totalSolvMon[chain.id] = 0\n",
    "\n",
    "total = 0.\n",
    "\n",
    "for chain in st[0]:\n",
    "    for res in chain.get_residues():\n",
    "        if max_dist > 0 and res not in interface[chain.id]:\n",
    "            continue\n",
    "        elec[res], vdw[res] = calc_int_energies(st[0], res)\n",
    "        solvAB[res] = calc_solvation(st[0], res)\n",
    "        solvA[res] = calc_solvation(st_chains[chain.id],st_chains[chain.id][0][chain.id][res.id[1]])\n",
    "\n",
    "        totalIntElec += elec[res]\n",
    "        totalIntVdw += vdw[res]\n",
    "        totalSolv += solvAB[res]\n",
    "        totalSolvMon[chain.id] += solvA[res]\n",
    "\n",
    "        total += elec[res] + vdw[res] + solvAB[res] - solvA[res]\n",
    "\n",
    "print()\n",
    "print('Total Electrostatic Int = ', totalIntElec)\n",
    "print('Total Vdw Int = ', totalIntVdw)\n",
    "print('Total Solvation Complex = ', totalSolv)\n",
    "print('Total Solv', chids[0], '=', totalSolvMon[chids[0]])\n",
    "print('Total Solv', chids[1], '=', totalSolvMon[chids[1]])\n",
    "print('DGintAB-A-B = ', total)"
   ]
  }
 ],
 "metadata": {
  "kernelspec": {
   "display_name": "Python 3 (ipykernel)",
   "language": "python",
   "name": "python3"
  },
  "language_info": {
   "codemirror_mode": {
    "name": "ipython",
    "version": 3
   },
   "file_extension": ".py",
   "mimetype": "text/x-python",
   "name": "python",
   "nbconvert_exporter": "python",
   "pygments_lexer": "ipython3",
   "version": "3.9.13"
  }
 },
 "nbformat": 4,
 "nbformat_minor": 5
}
